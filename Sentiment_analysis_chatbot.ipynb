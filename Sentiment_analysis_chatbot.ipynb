{
  "nbformat": 4,
  "nbformat_minor": 0,
  "metadata": {
    "colab": {
      "provenance": []
    },
    "kernelspec": {
      "name": "python3",
      "display_name": "Python 3"
    },
    "language_info": {
      "name": "python"
    },
    "widgets": {
      "state": {},
      "version": "2.0.0"
    }
  },
  "cells": [
    {
      "cell_type": "code",
      "execution_count": 2,
      "metadata": {
        "colab": {
          "base_uri": "https://localhost:8080/"
        },
        "collapsed": true,
        "id": "_P59TPTc7_E-",
        "outputId": "3167caaa-4655-4355-ff56-dba86234f3a7"
      },
      "outputs": [
        {
          "output_type": "stream",
          "name": "stdout",
          "text": [
            "Requirement already satisfied: gradio in /usr/local/lib/python3.12/dist-packages (5.44.1)\n",
            "..."
          ]
        }
      ],
      "source": [
        "!pip install gradio\n",
        "!pip install transformers"
      ]
    },
    {
      "cell_type": "code",
      "source": [
        "import gradio as gr\n",
        "from transformers import pipeline\n",
        "\n",
        "# load the pre-trained sentiment analysis model\n",
        "sentiment_analyzer = pipeline(\"sentiment-analysis\")\n",
        "\n",
        "# define the function that will wrap our model\n",
        "def analyze_sentiment(text):\n",
        "    result = sentiment_analyzer(text)[0]\n",
        "    # gradio works best with dictionary outputs\n",
        "    return {result['label']: result['score']}\n",
        "\n",
        "# create the Gradio Interface\n",
        "iface = gr.Interface(\n",
        "    fn=analyze_sentiment,\n",
        "    inputs=gr.Textbox(lines=2, placeholder=\"Enter a sentence here...\"),\n",
        "    outputs=\"label\",\n",
        "    title=\"Sentiment Analysis Bot\",\n",
        "    description=\"Type in a sentence and see if the model thinks it's POSITIVE or NEGATIVE. Built with Gradio and Hugging Face Transformers.\"\n",
        ")\n",
        "\n",
        "# launch the app!\n",
        "iface.launch()"
      ],
      "metadata": {
        "colab": {
          "base_uri": "https://localhost:8080/",
          "height": 929
        },
        "id": "MsGX5Vkr8lPS",
        "outputId": "4e0e0142-1442-4abb-ea9d-4a2cf039311b"
      },
      "execution_count": 3,
      "outputs": [
        {
          "output_type": "stream",
          "name": "stderr",
          "text": [
            "No model was supplied, defaulted to distilbert/distilbert-base-uncased-finetuned-sst-2-english and revision 714eb0f (https://huggingface.co/distilbert/distilbert-base-uncased-finetuned-sst-2-english).\n",
            "..."
          ]
        }
      ]
    },
    {
      "cell_type": "code",
      "source": [],
      "metadata": {
        "id": "3Pjb4D4q8xFz"
      },
      "execution_count": null,
      "outputs": []
    }
  ]
}
